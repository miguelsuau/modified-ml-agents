{
 "cells": [
  {
   "cell_type": "code",
   "execution_count": 4,
   "metadata": {},
   "outputs": [],
   "source": [
    "import numpy as np\n",
    "import os\n",
    "import matplotlib\n",
    "from unityagents import *\n",
    "from matplotlib import pyplot as plt\n",
    "from mpl_toolkits.mplot3d import Axes3D\n"
   ]
  },
  {
   "cell_type": "code",
   "execution_count": 5,
   "metadata": {},
   "outputs": [],
   "source": [
    "### General parameters\n",
    "max_steps = 1e3 # Set maximum number of steps to run environment.\n",
    "run_path = \"dqn\" # The sub-directory name for model and summary statistics\n",
    "load_model = False # Whether to load a saved model.\n",
    "train_model = True # Whether to train the model.\n",
    "summary_freq = 10000 # Frequency at which to save training statistics.\n",
    "save_freq = 50000 # Frequency at which to save model.\n",
    "env_name = \"UFOGridWorld_table\" # Name of the training environment file.\n",
    "curriculum_file = None\n",
    "\n",
    "### Algorithm-specific parameters for tuning\n",
    "gamma = 0.99 # Reward discount rate.\n",
    "epsilon_start = 1.0 # Initial probablity of random acction\n",
    "epsilon_end = 0.1 # Final probability of random action\n",
    "epsilon_decay_steps = 10000 # Number of steps between epsilon_start and epsilon_end\n",
    "alpha = 0.8 # Learning rate\n",
    "normalize = False\n",
    "\n",
    "### Logging dictionary for hyperparameters\n",
    "\n",
    "hyperparameter_dict = {'max_steps':max_steps, 'run_path':run_path, 'env_name':env_name,\n",
    "    'curriculum_file':curriculum_file, 'gamma':gamma}"
   ]
  },
  {
   "cell_type": "code",
   "execution_count": 6,
   "metadata": {},
   "outputs": [],
   "source": [
    "def create_policy(a_size):\n",
    "    \"\"\"\n",
    "    Creates epsilon-greedy policy\n",
    "    :param a_size: Action space size\n",
    "    :return prob: Policy function \n",
    "    \"\"\"\n",
    "    def policy(best_action, epsilon):\n",
    "        \"\"\"\n",
    "        Applies epsilon-greedy policy\n",
    "        :param best_action: Action yielding the maximum Q-value according to our table\n",
    "        :param epsilon: Probability of selecting a random action\n",
    "        :return action: Chosen action\n",
    "        \"\"\"\n",
    "        prob = np.ones(a_size)*epsilon/a_size\n",
    "        prob[best_action] += 1 - epsilon\n",
    "        action = np.random.choice(a_size, 1, p = prob)\n",
    "        return action\n",
    "    return policy"
   ]
  },
  {
   "cell_type": "code",
   "execution_count": 7,
   "metadata": {},
   "outputs": [
    {
     "name": "stderr",
     "output_type": "stream",
     "text": [
      "INFO:unityagents:\n",
      "'UFOAcademy' started successfully!\n"
     ]
    },
    {
     "name": "stdout",
     "output_type": "stream",
     "text": [
      "Unity Academy name: UFOAcademy\n",
      "        Number of brains: 1\n",
      "        Reset Parameters :\n",
      "\t\t\n",
      "Unity brain name: UFOBrain\n",
      "        Number of observations (per agent): 0\n",
      "        State space type: continuous\n",
      "        State space size (per agent): 1\n",
      "        Action space type: discrete\n",
      "        Action space size (per agent): 4\n",
      "        Memory space size (per agent): 0\n",
      "        Action descriptions: , , , \n"
     ]
    }
   ],
   "source": [
    "env = UnityEnvironment(file_name=env_name, curriculum=curriculum_file)\n",
    "print(str(env))\n",
    "brain_name = env.external_brain_names[0]"
   ]
  },
  {
   "cell_type": "code",
   "execution_count": 8,
   "metadata": {},
   "outputs": [
    {
     "name": "stdout",
     "output_type": "stream",
     "text": [
      "[False]\n",
      "[False]\n"
     ]
    }
   ],
   "source": [
    "# Define epsilon decay schedule\n",
    "epsilon = epsilon_start\n",
    "epsilon_decay = (epsilon_start - epsilon_end)/epsilon_decay_steps\n",
    "a_size = env.brains[brain_name].action_space_size\n",
    "s_size = env.brains[brain_name].state_space_size\n",
    "\n",
    "# Initialize lookup table\n",
    "Q = np.zeros((16, a_size))\n",
    "policy = create_policy(a_size)\n",
    "\n",
    "info = env.reset()[brain_name]\n",
    "reward = 0\n",
    "steps = 0\n",
    "episodes = 0\n",
    "reward_list = []\n",
    "while steps <= max_steps:\n",
    "    # Decide and take an action\n",
    "    best_action = np.argmax(Q[info.states.astype(int), :])\n",
    "    action = policy(best_action, epsilon)\n",
    "    new_info = env.step(action)[brain_name]\n",
    "    # Calculate target\n",
    "    target = new_info.rewards[0] + gamma*np.invert(new_info.local_done[0])*np.max(Q[new_info.states.astype(int),:])\n",
    "    # Update table toward target\n",
    "    Q[info.states.astype(int), action] += alpha*(target - Q[info.states.astype(int), action])\n",
    "    # Increase number of total steps and reduce epsilon\n",
    "    steps += 1\n",
    "    if epsilon > epsilon_end:\n",
    "        epsilon += -epsilon_decay\n",
    "    # Calculate total episode reward\n",
    "    reward += new_info.rewards[0]\n",
    "    info = new_info\n",
    "    if info.states.astype(int)[0] == 14:\n",
    "        print(info.local_done)\n",
    "    \n",
    "    # If episode is over start new episode\n",
    "    if info.local_done[0]:\n",
    "        info = env.reset()[brain_name]\n",
    "        episodes += 1\n",
    "        if episodes % 1e3 == 0:\n",
    "            print('steps: ' + str(steps) + ' reward: ' + str(reward))\n",
    "        # Store total reward\n",
    "        reward_list.append(reward)\n",
    "        reward = 0\n",
    "    \n",
    "        \n",
    "env.close()\n"
   ]
  },
  {
   "cell_type": "code",
   "execution_count": 8,
   "metadata": {},
   "outputs": [
    {
     "data": {
      "text/html": [
       "<iframe id=\"igraph\" scrolling=\"no\" style=\"border:none;\" seamless=\"seamless\" src=\"https://plot.ly/~miguel.suau/35.embed\" height=\"525px\" width=\"100%\"></iframe>"
      ],
      "text/plain": [
       "<plotly.tools.PlotlyDisplay object>"
      ]
     },
     "execution_count": 8,
     "metadata": {},
     "output_type": "execute_result"
    }
   ],
   "source": [
    "import plotly.plotly as py\n",
    "import plotly.figure_factory as ff\n",
    "\n",
    "maxQ = np.amax(Q, axis = 1)\n",
    "maxQ = maxQ.reshape(4,4)\n",
    "fig = ff.create_annotated_heatmap(maxQ)\n",
    "py.iplot(fig, filename='annotated_heatmap')"
   ]
  },
  {
   "cell_type": "code",
   "execution_count": 7,
   "metadata": {},
   "outputs": [
    {
     "name": "stdout",
     "output_type": "stream",
     "text": [
      "[[ 1.68425420e-05  5.20447182e-02 -3.63740964e-05 -1.20910166e-04]]\n"
     ]
    }
   ],
   "source": [
    "print(Q[15:])"
   ]
  },
  {
   "cell_type": "code",
   "execution_count": null,
   "metadata": {},
   "outputs": [],
   "source": []
  }
 ],
 "metadata": {
  "kernelspec": {
   "display_name": "Python 3",
   "language": "python",
   "name": "python3"
  },
  "language_info": {
   "codemirror_mode": {
    "name": "ipython",
    "version": 3
   },
   "file_extension": ".py",
   "mimetype": "text/x-python",
   "name": "python",
   "nbconvert_exporter": "python",
   "pygments_lexer": "ipython3",
   "version": "3.6.4"
  }
 },
 "nbformat": 4,
 "nbformat_minor": 2
}
