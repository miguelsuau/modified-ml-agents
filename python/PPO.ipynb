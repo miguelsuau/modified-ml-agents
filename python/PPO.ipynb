{
 "cells": [
  {
   "cell_type": "markdown",
   "metadata": {},
   "source": [
    "# Unity ML Agents\n",
    "## Proximal Policy Optimization (PPO)\n",
    "Contains an implementation of PPO as described [here](https://arxiv.org/abs/1707.06347)."
   ]
  },
  {
   "cell_type": "code",
   "execution_count": 5,
   "metadata": {},
   "outputs": [],
   "source": [
    "import numpy as np\n",
    "import os\n",
    "import tensorflow as tf\n",
    "\n",
    "from ppo.history import *\n",
    "from ppo.models import *\n",
    "from ppo.trainer import Trainer\n",
    "from unityagents import *"
   ]
  },
  {
   "cell_type": "markdown",
   "metadata": {},
   "source": [
    "### Hyperparameters"
   ]
  },
  {
   "cell_type": "code",
   "execution_count": 6,
   "metadata": {},
   "outputs": [],
   "source": [
    "### General parameters\n",
    "max_steps = 3e6 # Set maximum number of steps to run environment.\n",
    "run_path = \"ppo\" # The sub-directory name for model and summary statistics\n",
    "load_model = False # Whether to load a saved model.\n",
    "train_model = True # Whether to train the model.\n",
    "summary_freq = 10000 # Frequency at which to save training statistics.\n",
    "save_freq = 50000 # Frequency at which to save model.\n",
    "env_name = \"dynamic_UFOGridWorld\" # Name of the training environment file.\n",
    "curriculum_file = None\n",
    "\n",
    "### Algorithm-specific parameters for tuning\n",
    "gamma = 0.99 # Reward discount rate.\n",
    "lambd = 0.95 # Lambda parameter for GAE.\n",
    "time_horizon = 2048 # How many steps to collect per agent before adding to buffer.\n",
    "beta = 1e-4 # Strength of entropy regularization\n",
    "num_epoch = 5 # Number of gradient descent steps per batch of experiences.\n",
    "num_layers = 2 # Number of hidden layers between state/observation encoding and value/policy layers.\n",
    "epsilon = 0.2 # Acceptable threshold around ratio of old and new policy probabilities.\n",
    "buffer_size = 2048 # How large the experience buffer should be before gradient descent.\n",
    "learning_rate = 1e-3# Model learning rate.\n",
    "hidden_units = 32 # Number of units in hidden layer.\n",
    "batch_size = 32 # How many experiences per gradient descent update step.\n",
    "normalize = False\n",
    "\n",
    "# ### Algorithm-specific parameters for tuning\n",
    "# gamma = 0.99 # Reward discount rate.\n",
    "# lambd = 0.95 # Lambda parameter for GAE.\n",
    "# time_horizon = 2048 # How many steps to collect per agent before adding to buffer.\n",
    "# beta = 1e-3 # Strength of entropy regularization\n",
    "# num_epoch = 5 # Number of gradient descent steps per batch of experiences.\n",
    "# num_layers = 2 # Number of hidden layers between state/observation encoding and value/policy layers.\n",
    "# epsilon = 0.2 # Acceptable threshold around ratio of old and new policy probabilities.\n",
    "# buffer_size = 2048 # How large the experience buffer should be before gradient descent.\n",
    "# learning_rate = 3e-4 # Model learning rate.\n",
    "# hidden_units = 64 # Number of units in hidden layer.\n",
    "# batch_size = 64 # How many experiences per gradient descent update step.\n",
    "# normalize = False\n",
    "### Logging dictionary for hyperparameters\n",
    "hyperparameter_dict = {'max_steps':max_steps, 'run_path':run_path, 'env_name':env_name,\n",
    "    'curriculum_file':curriculum_file, 'gamma':gamma, 'lambd':lambd, 'time_horizon':time_horizon,\n",
    "    'beta':beta, 'num_epoch':num_epoch, 'epsilon':epsilon, 'buffe_size':buffer_size,\n",
    "    'learning_rate':learning_rate, 'hidden_units':hidden_units, 'batch_size':batch_size}"
   ]
  },
  {
   "cell_type": "markdown",
   "metadata": {},
   "source": [
    "### Load the environment"
   ]
  },
  {
   "cell_type": "code",
   "execution_count": 7,
   "metadata": {},
   "outputs": [
    {
     "name": "stderr",
     "output_type": "stream",
     "text": [
      "INFO:unityagents:\n",
      "'UFOAcademy' started successfully!\n"
     ]
    },
    {
     "name": "stdout",
     "output_type": "stream",
     "text": [
      "Unity Academy name: UFOAcademy\n",
      "        Number of brains: 1\n",
      "        Reset Parameters :\n",
      "\t\t\n",
      "Unity brain name: UFOBrain\n",
      "        Number of observations (per agent): 0\n",
      "        State space type: continuous\n",
      "        State space size (per agent): 6\n",
      "        Action space type: discrete\n",
      "        Action space size (per agent): 4\n",
      "        Memory space size (per agent): 0\n",
      "        Action descriptions: , , , \n"
     ]
    }
   ],
   "source": [
    "env = UnityEnvironment(file_name=env_name, curriculum=curriculum_file)\n",
    "print(str(env))\n",
    "brain_name = env.external_brain_names[0]"
   ]
  },
  {
   "cell_type": "markdown",
   "metadata": {},
   "source": [
    "### Train the Agent(s)"
   ]
  },
  {
   "cell_type": "code",
   "execution_count": 8,
   "metadata": {
    "scrolled": true
   },
   "outputs": [
    {
     "name": "stdout",
     "output_type": "stream",
     "text": [
      "Step: 10000. Mean Reward: -0.5605082417582419. Std of Reward: 1.1560264407876686.\n",
      "Step: 20000. Mean Reward: -0.2555753262158957. Std of Reward: 1.0301612790885297.\n",
      "Step: 30000. Mean Reward: 0.06297348484848476. Std of Reward: 0.893671067322689.\n",
      "Step: 40000. Mean Reward: 0.2153846153846153. Std of Reward: 0.8194474253057585.\n",
      "Step: 50000. Mean Reward: 0.32529504327301334. Std of Reward: 0.7400370333083333.\n",
      "Saved Model\n",
      "Step: 60000. Mean Reward: 0.3577401520387007. Std of Reward: 0.7417588272294089.\n",
      "Step: 70000. Mean Reward: 0.4519657577679137. Std of Reward: 0.6838748314791068.\n",
      "Step: 80000. Mean Reward: 0.5026972157772621. Std of Reward: 0.6500535217776632.\n",
      "Step: 90000. Mean Reward: 0.5189122032026505. Std of Reward: 0.6454807243955131.\n",
      "Step: 100000. Mean Reward: 0.5427375809935204. Std of Reward: 0.6177800343788117.\n",
      "Saved Model\n",
      "Step: 110000. Mean Reward: 0.5925724637681159. Std of Reward: 0.5866774515179553.\n",
      "Step: 120000. Mean Reward: 0.5989005497251374. Std of Reward: 0.5846626167431856.\n",
      "Step: 130000. Mean Reward: 0.6031609195402298. Std of Reward: 0.5988731187981956.\n",
      "Step: 140000. Mean Reward: 0.6152273771244832. Std of Reward: 0.5981109108406751.\n",
      "Step: 150000. Mean Reward: 0.6853579175704989. Std of Reward: 0.5190673806431341.\n",
      "Saved Model\n",
      "Step: 160000. Mean Reward: 0.6685039370078739. Std of Reward: 0.5441055666479538.\n",
      "Step: 170000. Mean Reward: 0.6952127659574467. Std of Reward: 0.5290860744783553.\n",
      "Step: 180000. Mean Reward: 0.6899647197177577. Std of Reward: 0.5420980399499624.\n",
      "Step: 190000. Mean Reward: 0.7136432926829268. Std of Reward: 0.5187165982935729.\n",
      "Step: 200000. Mean Reward: 0.686949494949495. Std of Reward: 0.543121716993016.\n",
      "Saved Model\n",
      "Step: 210000. Mean Reward: 0.7148055448594531. Std of Reward: 0.5176991493536489.\n",
      "Step: 220000. Mean Reward: 0.7202204484986696. Std of Reward: 0.5149233491941989.\n",
      "Step: 230000. Mean Reward: 0.7219444444444445. Std of Reward: 0.5095867213175888.\n",
      "Step: 240000. Mean Reward: 0.7397790055248618. Std of Reward: 0.4892768623496179.\n",
      "Step: 250000. Mean Reward: 0.7542406669083. Std of Reward: 0.46980612019775886.\n",
      "Saved Model\n",
      "Step: 260000. Mean Reward: 0.7364446027787673. Std of Reward: 0.5042504471072022.\n",
      "Step: 270000. Mean Reward: 0.7445865451997198. Std of Reward: 0.4963563319957861.\n",
      "Step: 280000. Mean Reward: 0.7465468639887244. Std of Reward: 0.48988757654769627.\n",
      "Step: 290000. Mean Reward: 0.7557765479072984. Std of Reward: 0.48079819905562515.\n",
      "Step: 300000. Mean Reward: 0.7728177374301676. Std of Reward: 0.45115128985012143.\n",
      "Saved Model\n",
      "Step: 310000. Mean Reward: 0.7496897621509824. Std of Reward: 0.4965894438690062.\n",
      "Step: 320000. Mean Reward: 0.7600173611111111. Std of Reward: 0.47072399140842686.\n",
      "Step: 330000. Mean Reward: 0.7645027624309392. Std of Reward: 0.46720519258813814.\n",
      "Step: 340000. Mean Reward: 0.7427094286715737. Std of Reward: 0.5062571523266983.\n",
      "Step: 350000. Mean Reward: 0.7640560165975102. Std of Reward: 0.4714795005162922.\n",
      "Saved Model\n",
      "Step: 360000. Mean Reward: 0.7512905476107429. Std of Reward: 0.493651791272757.\n",
      "Step: 370000. Mean Reward: 0.7724227698715723. Std of Reward: 0.46414162919245466.\n",
      "Step: 380000. Mean Reward: 0.7773467941905773. Std of Reward: 0.44085497533409856.\n",
      "Step: 390000. Mean Reward: 0.774178895877009. Std of Reward: 0.4435605021633732.\n",
      "Step: 400000. Mean Reward: 0.7666961443226034. Std of Reward: 0.4723938772195451.\n",
      "Saved Model\n",
      "Step: 410000. Mean Reward: 0.7654716981132075. Std of Reward: 0.4662088351967064.\n",
      "Step: 420000. Mean Reward: 0.7950914014895057. Std of Reward: 0.418782460547906.\n",
      "Step: 430000. Mean Reward: 0.7866997603560424. Std of Reward: 0.4342810882028338.\n",
      "Step: 440000. Mean Reward: 0.7911031420765027. Std of Reward: 0.42191128384793736.\n",
      "Step: 450000. Mean Reward: 0.8043012580754845. Std of Reward: 0.3957175076108803.\n",
      "Saved Model\n",
      "Step: 460000. Mean Reward: 0.7839593908629441. Std of Reward: 0.44087080232279574.\n",
      "Step: 470000. Mean Reward: 0.7884354893328818. Std of Reward: 0.4316655039902503.\n",
      "Step: 480000. Mean Reward: 0.8054668930390491. Std of Reward: 0.3968560583852841.\n",
      "Step: 490000. Mean Reward: 0.7899460188933873. Std of Reward: 0.42827896467135446.\n",
      "Step: 500000. Mean Reward: 0.8000499999999999. Std of Reward: 0.4139937569980172.\n",
      "Saved Model\n",
      "Step: 510000. Mean Reward: 0.795316198850186. Std of Reward: 0.4150420888623815.\n",
      "Step: 520000. Mean Reward: 0.8051361599448466. Std of Reward: 0.38380183795269157.\n",
      "Step: 530000. Mean Reward: 0.7984722222222221. Std of Reward: 0.40328653214082516.\n",
      "Step: 540000. Mean Reward: 0.7935390385271053. Std of Reward: 0.41556203537355035.\n",
      "Step: 550000. Mean Reward: 0.8004074702886247. Std of Reward: 0.4029536581374265.\n",
      "Saved Model\n",
      "Step: 560000. Mean Reward: 0.7950252100840336. Std of Reward: 0.4179507321329896.\n",
      "Step: 570000. Mean Reward: 0.8109380291229259. Std of Reward: 0.38367318645674003.\n",
      "Step: 580000. Mean Reward: 0.8068689563187729. Std of Reward: 0.3970038251440458.\n",
      "Step: 590000. Mean Reward: 0.8010264900662253. Std of Reward: 0.41375834273848017.\n",
      "Step: 600000. Mean Reward: 0.8033833333333332. Std of Reward: 0.406789527547382.\n",
      "Saved Model\n",
      "Step: 610000. Mean Reward: 0.8099699899966654. Std of Reward: 0.39346186157221197.\n",
      "Step: 620000. Mean Reward: 0.806351845693382. Std of Reward: 0.4029648516704997.\n",
      "Step: 630000. Mean Reward: 0.804004614370468. Std of Reward: 0.4095690630180412.\n",
      "Step: 640000. Mean Reward: 0.8176282051282051. Std of Reward: 0.3698517165945002.\n",
      "Step: 650000. Mean Reward: 0.8119452786119452. Std of Reward: 0.3874974502486177.\n",
      "Saved Model\n",
      "Step: 660000. Mean Reward: 0.8082255389718077. Std of Reward: 0.4007459903735747.\n",
      "Step: 670000. Mean Reward: 0.8112387612387612. Std of Reward: 0.3871126550867791.\n",
      "Step: 680000. Mean Reward: 0.812588116817724. Std of Reward: 0.38507657635947806.\n",
      "Step: 690000. Mean Reward: 0.8004545454545454. Std of Reward: 0.41028522819205276.\n",
      "Step: 700000. Mean Reward: 0.7949749582637728. Std of Reward: 0.4218378871624732.\n",
      "Saved Model\n",
      "Step: 710000. Mean Reward: 0.8159515230920406. Std of Reward: 0.3880009829871867.\n",
      "Step: 720000. Mean Reward: 0.8207062334217506. Std of Reward: 0.37133013997303144.\n",
      "Step: 730000. Mean Reward: 0.8077626329787234. Std of Reward: 0.4047717550794382.\n",
      "Step: 740000. Mean Reward: 0.8080431177446101. Std of Reward: 0.40031598397984186.\n",
      "Step: 750000. Mean Reward: 0.8135982562038899. Std of Reward: 0.38520643934012666.\n",
      "Saved Model\n",
      "Step: 760000. Mean Reward: 0.8178571428571427. Std of Reward: 0.37411205191613317.\n",
      "Step: 770000. Mean Reward: 0.8270418326693226. Std of Reward: 0.3538959520304995.\n",
      "Step: 780000. Mean Reward: 0.8188053823432885. Std of Reward: 0.37351497958051216.\n",
      "Step: 790000. Mean Reward: 0.8260948905109488. Std of Reward: 0.353022843956.\n",
      "Step: 800000. Mean Reward: 0.821755088421755. Std of Reward: 0.36611185991752954.\n",
      "Saved Model\n",
      "Step: 810000. Mean Reward: 0.8184878213802436. Std of Reward: 0.36771205924205563.\n",
      "Step: 820000. Mean Reward: 0.8217581677332434. Std of Reward: 0.36081399234399625.\n",
      "Step: 830000. Mean Reward: 0.8136767610269914. Std of Reward: 0.38360887689712725.\n",
      "Step: 840000. Mean Reward: 0.8215808461790751. Std of Reward: 0.36973259389411917.\n",
      "Step: 850000. Mean Reward: 0.8025958994708995. Std of Reward: 0.41065589965285243.\n",
      "Saved Model\n",
      "Step: 860000. Mean Reward: 0.8149534264803726. Std of Reward: 0.3822515080359756.\n",
      "Step: 870000. Mean Reward: 0.814387417218543. Std of Reward: 0.38597617138210255.\n",
      "Step: 880000. Mean Reward: 0.8133035122597747. Std of Reward: 0.3846126535894479.\n",
      "Step: 890000. Mean Reward: 0.8134451019066402. Std of Reward: 0.38539028576786954.\n",
      "Step: 900000. Mean Reward: 0.8088245088245087. Std of Reward: 0.3920416901536939.\n",
      "Saved Model\n",
      "Step: 910000. Mean Reward: 0.8331227136681076. Std of Reward: 0.3398712454612857.\n",
      "Step: 920000. Mean Reward: 0.8166944629753168. Std of Reward: 0.37596304718850043.\n",
      "Step: 930000. Mean Reward: 0.8228824907934382. Std of Reward: 0.36313115943630464.\n",
      "Step: 940000. Mean Reward: 0.8069494882799604. Std of Reward: 0.404414487058662.\n",
      "Step: 950000. Mean Reward: 0.8178147659854977. Std of Reward: 0.38043127345531913.\n",
      "Saved Model\n",
      "Step: 960000. Mean Reward: 0.8141920681743691. Std of Reward: 0.38862070403594245.\n",
      "Step: 970000. Mean Reward: 0.8166116793137577. Std of Reward: 0.3807371437943104.\n",
      "Step: 980000. Mean Reward: 0.8214119214119213. Std of Reward: 0.36814698913902.\n"
     ]
    },
    {
     "name": "stdout",
     "output_type": "stream",
     "text": [
      "Step: 990000. Mean Reward: 0.8103230103230102. Std of Reward: 0.39212188070038234.\n",
      "Step: 1000000. Mean Reward: 0.8232002617801046. Std of Reward: 0.36923363281535676.\n",
      "Saved Model\n",
      "Step: 1010000. Mean Reward: 0.8236668861092825. Std of Reward: 0.36495301260806073.\n",
      "Step: 1020000. Mean Reward: 0.81675. Std of Reward: 0.3726641975917014.\n",
      "Step: 1030000. Mean Reward: 0.8153530377668309. Std of Reward: 0.38515974357881017.\n",
      "Step: 1040000. Mean Reward: 0.8084899439498845. Std of Reward: 0.40169804595787295.\n",
      "Step: 1050000. Mean Reward: 0.8278912685337725. Std of Reward: 0.3548726500206204.\n",
      "Saved Model\n",
      "Step: 1060000. Mean Reward: 0.8286737754081972. Std of Reward: 0.34840050646405024.\n"
     ]
    },
    {
     "ename": "KeyboardInterrupt",
     "evalue": "",
     "output_type": "error",
     "traceback": [
      "\u001b[1;31m---------------------------------------------------------------------------\u001b[0m",
      "\u001b[1;31mKeyboardInterrupt\u001b[0m                         Traceback (most recent call last)",
      "\u001b[1;32m<ipython-input-8-fea09393b070>\u001b[0m in \u001b[0;36m<module>\u001b[1;34m()\u001b[0m\n\u001b[0;32m     73\u001b[0m             \u001b[0mmean_reward\u001b[0m \u001b[1;33m=\u001b[0m \u001b[0mnp\u001b[0m\u001b[1;33m.\u001b[0m\u001b[0mmean\u001b[0m\u001b[1;33m(\u001b[0m\u001b[0mtrainer\u001b[0m\u001b[1;33m.\u001b[0m\u001b[0mstats\u001b[0m\u001b[1;33m[\u001b[0m\u001b[1;34m'cumulative_reward'\u001b[0m\u001b[1;33m]\u001b[0m\u001b[1;33m)\u001b[0m\u001b[1;33m\u001b[0m\u001b[0m\n\u001b[0;32m     74\u001b[0m             \u001b[0msess\u001b[0m\u001b[1;33m.\u001b[0m\u001b[0mrun\u001b[0m\u001b[1;33m(\u001b[0m\u001b[0mppo_model\u001b[0m\u001b[1;33m.\u001b[0m\u001b[0mupdate_reward\u001b[0m\u001b[1;33m,\u001b[0m \u001b[0mfeed_dict\u001b[0m\u001b[1;33m=\u001b[0m\u001b[1;33m{\u001b[0m\u001b[0mppo_model\u001b[0m\u001b[1;33m.\u001b[0m\u001b[0mnew_reward\u001b[0m\u001b[1;33m:\u001b[0m \u001b[0mmean_reward\u001b[0m\u001b[1;33m}\u001b[0m\u001b[1;33m)\u001b[0m\u001b[1;33m\u001b[0m\u001b[0m\n\u001b[1;32m---> 75\u001b[1;33m             \u001b[0mlast_reward\u001b[0m \u001b[1;33m=\u001b[0m \u001b[0msess\u001b[0m\u001b[1;33m.\u001b[0m\u001b[0mrun\u001b[0m\u001b[1;33m(\u001b[0m\u001b[0mppo_model\u001b[0m\u001b[1;33m.\u001b[0m\u001b[0mlast_reward\u001b[0m\u001b[1;33m)\u001b[0m\u001b[1;33m\u001b[0m\u001b[0m\n\u001b[0m\u001b[0;32m     76\u001b[0m     \u001b[1;31m# Final save Tensorflow model\u001b[0m\u001b[1;33m\u001b[0m\u001b[1;33m\u001b[0m\u001b[0m\n\u001b[0;32m     77\u001b[0m     \u001b[1;32mif\u001b[0m \u001b[0msteps\u001b[0m \u001b[1;33m!=\u001b[0m \u001b[1;36m0\u001b[0m \u001b[1;32mand\u001b[0m \u001b[0mtrain_model\u001b[0m\u001b[1;33m:\u001b[0m\u001b[1;33m\u001b[0m\u001b[0m\n",
      "\u001b[1;32m~\\AppData\\Local\\Continuum\\anaconda3\\lib\\site-packages\\tensorflow\\python\\client\\session.py\u001b[0m in \u001b[0;36mrun\u001b[1;34m(self, fetches, feed_dict, options, run_metadata)\u001b[0m\n\u001b[0;32m    887\u001b[0m     \u001b[1;32mtry\u001b[0m\u001b[1;33m:\u001b[0m\u001b[1;33m\u001b[0m\u001b[0m\n\u001b[0;32m    888\u001b[0m       result = self._run(None, fetches, feed_dict, options_ptr,\n\u001b[1;32m--> 889\u001b[1;33m                          run_metadata_ptr)\n\u001b[0m\u001b[0;32m    890\u001b[0m       \u001b[1;32mif\u001b[0m \u001b[0mrun_metadata\u001b[0m\u001b[1;33m:\u001b[0m\u001b[1;33m\u001b[0m\u001b[0m\n\u001b[0;32m    891\u001b[0m         \u001b[0mproto_data\u001b[0m \u001b[1;33m=\u001b[0m \u001b[0mtf_session\u001b[0m\u001b[1;33m.\u001b[0m\u001b[0mTF_GetBuffer\u001b[0m\u001b[1;33m(\u001b[0m\u001b[0mrun_metadata_ptr\u001b[0m\u001b[1;33m)\u001b[0m\u001b[1;33m\u001b[0m\u001b[0m\n",
      "\u001b[1;32m~\\AppData\\Local\\Continuum\\anaconda3\\lib\\site-packages\\tensorflow\\python\\client\\session.py\u001b[0m in \u001b[0;36m_run\u001b[1;34m(self, handle, fetches, feed_dict, options, run_metadata)\u001b[0m\n\u001b[0;32m   1118\u001b[0m     \u001b[1;32mif\u001b[0m \u001b[0mfinal_fetches\u001b[0m \u001b[1;32mor\u001b[0m \u001b[0mfinal_targets\u001b[0m \u001b[1;32mor\u001b[0m \u001b[1;33m(\u001b[0m\u001b[0mhandle\u001b[0m \u001b[1;32mand\u001b[0m \u001b[0mfeed_dict_tensor\u001b[0m\u001b[1;33m)\u001b[0m\u001b[1;33m:\u001b[0m\u001b[1;33m\u001b[0m\u001b[0m\n\u001b[0;32m   1119\u001b[0m       results = self._do_run(handle, final_targets, final_fetches,\n\u001b[1;32m-> 1120\u001b[1;33m                              feed_dict_tensor, options, run_metadata)\n\u001b[0m\u001b[0;32m   1121\u001b[0m     \u001b[1;32melse\u001b[0m\u001b[1;33m:\u001b[0m\u001b[1;33m\u001b[0m\u001b[0m\n\u001b[0;32m   1122\u001b[0m       \u001b[0mresults\u001b[0m \u001b[1;33m=\u001b[0m \u001b[1;33m[\u001b[0m\u001b[1;33m]\u001b[0m\u001b[1;33m\u001b[0m\u001b[0m\n",
      "\u001b[1;32m~\\AppData\\Local\\Continuum\\anaconda3\\lib\\site-packages\\tensorflow\\python\\client\\session.py\u001b[0m in \u001b[0;36m_do_run\u001b[1;34m(self, handle, target_list, fetch_list, feed_dict, options, run_metadata)\u001b[0m\n\u001b[0;32m   1315\u001b[0m     \u001b[1;32mif\u001b[0m \u001b[0mhandle\u001b[0m \u001b[1;32mis\u001b[0m \u001b[1;32mNone\u001b[0m\u001b[1;33m:\u001b[0m\u001b[1;33m\u001b[0m\u001b[0m\n\u001b[0;32m   1316\u001b[0m       return self._do_call(_run_fn, self._session, feeds, fetches, targets,\n\u001b[1;32m-> 1317\u001b[1;33m                            options, run_metadata)\n\u001b[0m\u001b[0;32m   1318\u001b[0m     \u001b[1;32melse\u001b[0m\u001b[1;33m:\u001b[0m\u001b[1;33m\u001b[0m\u001b[0m\n\u001b[0;32m   1319\u001b[0m       \u001b[1;32mreturn\u001b[0m \u001b[0mself\u001b[0m\u001b[1;33m.\u001b[0m\u001b[0m_do_call\u001b[0m\u001b[1;33m(\u001b[0m\u001b[0m_prun_fn\u001b[0m\u001b[1;33m,\u001b[0m \u001b[0mself\u001b[0m\u001b[1;33m.\u001b[0m\u001b[0m_session\u001b[0m\u001b[1;33m,\u001b[0m \u001b[0mhandle\u001b[0m\u001b[1;33m,\u001b[0m \u001b[0mfeeds\u001b[0m\u001b[1;33m,\u001b[0m \u001b[0mfetches\u001b[0m\u001b[1;33m)\u001b[0m\u001b[1;33m\u001b[0m\u001b[0m\n",
      "\u001b[1;32m~\\AppData\\Local\\Continuum\\anaconda3\\lib\\site-packages\\tensorflow\\python\\client\\session.py\u001b[0m in \u001b[0;36m_do_call\u001b[1;34m(self, fn, *args)\u001b[0m\n\u001b[0;32m   1321\u001b[0m   \u001b[1;32mdef\u001b[0m \u001b[0m_do_call\u001b[0m\u001b[1;33m(\u001b[0m\u001b[0mself\u001b[0m\u001b[1;33m,\u001b[0m \u001b[0mfn\u001b[0m\u001b[1;33m,\u001b[0m \u001b[1;33m*\u001b[0m\u001b[0margs\u001b[0m\u001b[1;33m)\u001b[0m\u001b[1;33m:\u001b[0m\u001b[1;33m\u001b[0m\u001b[0m\n\u001b[0;32m   1322\u001b[0m     \u001b[1;32mtry\u001b[0m\u001b[1;33m:\u001b[0m\u001b[1;33m\u001b[0m\u001b[0m\n\u001b[1;32m-> 1323\u001b[1;33m       \u001b[1;32mreturn\u001b[0m \u001b[0mfn\u001b[0m\u001b[1;33m(\u001b[0m\u001b[1;33m*\u001b[0m\u001b[0margs\u001b[0m\u001b[1;33m)\u001b[0m\u001b[1;33m\u001b[0m\u001b[0m\n\u001b[0m\u001b[0;32m   1324\u001b[0m     \u001b[1;32mexcept\u001b[0m \u001b[0merrors\u001b[0m\u001b[1;33m.\u001b[0m\u001b[0mOpError\u001b[0m \u001b[1;32mas\u001b[0m \u001b[0me\u001b[0m\u001b[1;33m:\u001b[0m\u001b[1;33m\u001b[0m\u001b[0m\n\u001b[0;32m   1325\u001b[0m       \u001b[0mmessage\u001b[0m \u001b[1;33m=\u001b[0m \u001b[0mcompat\u001b[0m\u001b[1;33m.\u001b[0m\u001b[0mas_text\u001b[0m\u001b[1;33m(\u001b[0m\u001b[0me\u001b[0m\u001b[1;33m.\u001b[0m\u001b[0mmessage\u001b[0m\u001b[1;33m)\u001b[0m\u001b[1;33m\u001b[0m\u001b[0m\n",
      "\u001b[1;32m~\\AppData\\Local\\Continuum\\anaconda3\\lib\\site-packages\\tensorflow\\python\\client\\session.py\u001b[0m in \u001b[0;36m_run_fn\u001b[1;34m(session, feed_dict, fetch_list, target_list, options, run_metadata)\u001b[0m\n\u001b[0;32m   1300\u001b[0m           return tf_session.TF_Run(session, options,\n\u001b[0;32m   1301\u001b[0m                                    \u001b[0mfeed_dict\u001b[0m\u001b[1;33m,\u001b[0m \u001b[0mfetch_list\u001b[0m\u001b[1;33m,\u001b[0m \u001b[0mtarget_list\u001b[0m\u001b[1;33m,\u001b[0m\u001b[1;33m\u001b[0m\u001b[0m\n\u001b[1;32m-> 1302\u001b[1;33m                                    status, run_metadata)\n\u001b[0m\u001b[0;32m   1303\u001b[0m \u001b[1;33m\u001b[0m\u001b[0m\n\u001b[0;32m   1304\u001b[0m     \u001b[1;32mdef\u001b[0m \u001b[0m_prun_fn\u001b[0m\u001b[1;33m(\u001b[0m\u001b[0msession\u001b[0m\u001b[1;33m,\u001b[0m \u001b[0mhandle\u001b[0m\u001b[1;33m,\u001b[0m \u001b[0mfeed_dict\u001b[0m\u001b[1;33m,\u001b[0m \u001b[0mfetch_list\u001b[0m\u001b[1;33m)\u001b[0m\u001b[1;33m:\u001b[0m\u001b[1;33m\u001b[0m\u001b[0m\n",
      "\u001b[1;31mKeyboardInterrupt\u001b[0m: "
     ]
    }
   ],
   "source": [
    "tf.reset_default_graph()\n",
    "\n",
    "if curriculum_file == \"None\":\n",
    "    curriculum_file = None\n",
    "\n",
    "\n",
    "def get_progress():\n",
    "    if curriculum_file is not None:\n",
    "        if env._curriculum.measure_type == \"progress\":\n",
    "            return steps / max_steps\n",
    "        elif env._curriculum.measure_type == \"reward\":\n",
    "            return last_reward\n",
    "        else:\n",
    "            return None\n",
    "    else:\n",
    "        return None\n",
    "\n",
    "# Create the Tensorflow model graph\n",
    "ppo_model = create_agent_model(env, lr=learning_rate,\n",
    "                               h_size=hidden_units, epsilon=epsilon,\n",
    "                               beta=beta, max_step=max_steps, \n",
    "                               normalize=normalize, num_layers=num_layers)\n",
    "\n",
    "is_continuous = (env.brains[brain_name].action_space_type == \"continuous\")\n",
    "use_observations = (env.brains[brain_name].number_observations > 0)\n",
    "use_states = (env.brains[brain_name].state_space_size > 0)\n",
    "\n",
    "model_path = './models/{}'.format(run_path)\n",
    "summary_path = './summaries/{}'.format(run_path)\n",
    "\n",
    "if not os.path.exists(model_path):\n",
    "    os.makedirs(model_path)\n",
    "\n",
    "if not os.path.exists(summary_path):\n",
    "    os.makedirs(summary_path)\n",
    "\n",
    "init = tf.global_variables_initializer()\n",
    "saver = tf.train.Saver()\n",
    "\n",
    "with tf.Session() as sess:\n",
    "    # Instantiate model parameters\n",
    "    if load_model:\n",
    "        print('Loading Model...')\n",
    "        ckpt = tf.train.get_checkpoint_state(model_path)\n",
    "        saver.restore(sess, ckpt.model_checkpoint_path)\n",
    "    else:\n",
    "        sess.run(init)\n",
    "    steps, last_reward = sess.run([ppo_model.global_step, ppo_model.last_reward])    \n",
    "    summary_writer = tf.summary.FileWriter(summary_path)\n",
    "    info = env.reset(train_mode=train_model, progress=get_progress())[brain_name]\n",
    "    trainer = Trainer(ppo_model, sess, info, is_continuous, use_observations, use_states, train_model)\n",
    "    if train_model:\n",
    "        trainer.write_text(summary_writer, 'Hyperparameters', hyperparameter_dict, steps)\n",
    "    while steps <= max_steps:\n",
    "        if env.global_done:\n",
    "            info = env.reset(train_mode=train_model, progress=get_progress())[brain_name]\n",
    "        # Decide and take an action\n",
    "        new_info = trainer.take_action(info, env, brain_name, steps, normalize)\n",
    "        info = new_info\n",
    "        trainer.process_experiences(info, time_horizon, gamma, lambd)\n",
    "        if len(trainer.training_buffer['actions']) > buffer_size and train_model:\n",
    "            # Perform gradient descent with experience buffer\n",
    "            trainer.update_model(batch_size, num_epoch)\n",
    "        if steps % summary_freq == 0 and steps != 0 and train_model:\n",
    "            # Write training statistics to tensorboard.\n",
    "            trainer.write_summary(summary_writer, steps, env._curriculum.lesson_number)\n",
    "        if steps % save_freq == 0 and steps != 0 and train_model:\n",
    "            # Save Tensorflow model\n",
    "            save_model(sess, model_path=model_path, steps=steps, saver=saver)\n",
    "        steps += 1\n",
    "        sess.run(ppo_model.increment_step)\n",
    "        if len(trainer.stats['cumulative_reward']) > 0:\n",
    "            mean_reward = np.mean(trainer.stats['cumulative_reward'])\n",
    "            sess.run(ppo_model.update_reward, feed_dict={ppo_model.new_reward: mean_reward})\n",
    "            last_reward = sess.run(ppo_model.last_reward)\n",
    "    # Final save Tensorflow model\n",
    "    if steps != 0 and train_model:\n",
    "        save_model(sess, model_path=model_path, steps=steps, saver=saver)\n",
    "env.close()\n",
    "export_graph(model_path, env_name)"
   ]
  },
  {
   "cell_type": "markdown",
   "metadata": {},
   "source": [
    "### Export the trained Tensorflow graph\n",
    "Once the model has been trained and saved, we can export it as a .bytes file which Unity can embed."
   ]
  },
  {
   "cell_type": "code",
   "execution_count": 9,
   "metadata": {},
   "outputs": [
    {
     "name": "stdout",
     "output_type": "stream",
     "text": [
      "INFO:tensorflow:Restoring parameters from ./models/ppo\\model-1050000.cptk\n"
     ]
    },
    {
     "name": "stderr",
     "output_type": "stream",
     "text": [
      "INFO:tensorflow:Restoring parameters from ./models/ppo\\model-1050000.cptk\n"
     ]
    },
    {
     "name": "stdout",
     "output_type": "stream",
     "text": [
      "INFO:tensorflow:Froze 4 variables.\n"
     ]
    },
    {
     "name": "stderr",
     "output_type": "stream",
     "text": [
      "INFO:tensorflow:Froze 4 variables.\n"
     ]
    },
    {
     "name": "stdout",
     "output_type": "stream",
     "text": [
      "Converted 4 variables to const ops.\n"
     ]
    }
   ],
   "source": [
    "export_graph(model_path, env_name)"
   ]
  },
  {
   "cell_type": "code",
   "execution_count": null,
   "metadata": {},
   "outputs": [],
   "source": []
  }
 ],
 "metadata": {
  "anaconda-cloud": {},
  "kernelspec": {
   "display_name": "Python 3",
   "language": "python",
   "name": "python3"
  },
  "language_info": {
   "codemirror_mode": {
    "name": "ipython",
    "version": 3
   },
   "file_extension": ".py",
   "mimetype": "text/x-python",
   "name": "python",
   "nbconvert_exporter": "python",
   "pygments_lexer": "ipython3",
   "version": "3.6.4"
  }
 },
 "nbformat": 4,
 "nbformat_minor": 1
}
